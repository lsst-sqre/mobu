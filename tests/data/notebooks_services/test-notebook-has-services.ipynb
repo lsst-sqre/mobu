{
 "cells": [
  {
   "cell_type": "markdown",
   "id": "5cb3e0b7",
   "metadata": {},
   "source": [
    "This is a test notebook to check the NotebookRunner business. It contains some Markdown cells and some code cells. Only the code cells should run."
   ]
  },
  {
   "cell_type": "code",
   "execution_count": null,
   "id": "f84f0959",
   "metadata": {},
   "outputs": [],
   "source": [
    "print(\"Required services are available\")"
   ]
  },
  {
   "cell_type": "code",
   "execution_count": null,
   "id": "53a941a4",
   "metadata": {},
   "outputs": [],
   "source": [
    "print(\"Final test\")"
   ]
  },
  {
   "cell_type": "code",
   "execution_count": null,
   "id": "823560c6",
   "metadata": {},
   "outputs": [],
   "source": []
  }
 ],
 "metadata": {
  "mobu": {
   "required_services": ["some_service"]
  },
  "kernelspec": {
   "display_name": "Python 3",
   "language": "python",
   "name": "python3"
  },
  "language_info": {
   "codemirror_mode": {
    "name": "ipython",
    "version": 3
   },
   "file_extension": ".py",
   "mimetype": "text/x-python",
   "name": "python",
   "nbconvert_exporter": "python",
   "pygments_lexer": "ipython3",
   "version": "3.9.2"
  }
 },
 "nbformat": 4,
 "nbformat_minor": 5
}
