{
 "cells": [
  {
   "cell_type": "markdown",
   "id": "5cb3e0b7",
   "metadata": {},
   "source": [
    "This is a test notebook to check the NotebookRunner business. It contains some Markdown cells and some code cells. Only the code cells should run."
   ]
  },
  {
   "cell_type": "code",
   "execution_count": 1,
   "id": "f84f0959",
   "metadata": {},
   "outputs": [
    {
     "name": "stdout",
     "output_type": "stream",
     "text": [
      "This is a test\n"
     ]
    }
   ],
   "source": [
    "print(\"This is a test\")"
   ]
  },
  {
   "cell_type": "code",
   "execution_count": 2,
   "id": "44ada997",
   "metadata": {},
   "outputs": [
    {
     "name": "stdout",
     "output_type": "stream",
     "text": [
      "This is another test\n"
     ]
    }
   ],
   "source": [
    "print(\"This is another test\")"
   ]
  },
  {
   "cell_type": "markdown",
   "id": "d5cea3a7",
   "metadata": {},
   "source": [
    "Another Markdown cell"
   ]
  },
  {
   "cell_type": "markdown",
   "id": "541caea0",
   "metadata": {},
   "source": [
    "Yet another Markdown cell. This one has a list.\n",
    "- one\n",
    "- two\n",
    "- three"
   ]
  },
  {
   "cell_type": "code",
   "execution_count": 3,
   "id": "53a941a4",
   "metadata": {},
   "outputs": [
    {
     "name": "stdout",
     "output_type": "stream",
     "text": [
      "Final test\n"
     ]
    }
   ],
   "source": [
    "print(\"Final test\")"
   ]
  },
  {
   "cell_type": "code",
   "execution_count": null,
   "id": "823560c6",
   "metadata": {},
   "outputs": [],
   "source": []
  }
 ],
 "metadata": {
  "kernelspec": {
   "display_name": "Python 3",
   "language": "python",
   "name": "python3"
  },
  "language_info": {
   "codemirror_mode": {
    "name": "ipython",
    "version": 3
   },
   "file_extension": ".py",
   "mimetype": "text/x-python",
   "name": "python",
   "nbconvert_exporter": "python",
   "pygments_lexer": "ipython3",
   "version": "3.9.2"
  }
 },
 "nbformat": 4,
 "nbformat_minor": 5
}
