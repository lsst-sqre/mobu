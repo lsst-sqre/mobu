{
 "cells": [
  {
   "cell_type": "markdown",
   "id": "5cb3e0b7",
   "metadata": {},
   "source": "        This is a test notebook to check the NotebookRunner business. It should run even though it's in a directory, unless this directory is excluded..."
  },
  {
   "cell_type": "code",
   "execution_count": 1,
   "id": "f84f0959",
   "metadata": {
    "ExecuteTime": {
     "end_time": "2024-05-17T20:39:57.123503Z",
     "start_time": "2024-05-17T20:39:57.121412Z"
    }
   },
   "outputs": [],
   "source": [
    "print(\"Test double-nested-dir\")"
   ]
  },
  {
   "cell_type": "code",
   "execution_count": 2,
   "id": "44ada997",
   "metadata": {
    "ExecuteTime": {
     "end_time": "2024-05-17T20:39:57.150633Z",
     "start_time": "2024-05-17T20:39:57.124284Z"
    }
   },
   "outputs": [],
   "source": [
    "print(\"Another test double-nested-dir\")"
   ]
  },
  {
   "cell_type": "markdown",
   "id": "d5cea3a7",
   "metadata": {},
   "source": [
    "Another Markdown cell"
   ]
  },
  {
   "cell_type": "markdown",
   "id": "541caea0",
   "metadata": {},
   "source": [
    "Yet another Markdown cell. This one has a list.\n",
    "- one\n",
    "- two\n",
    "- three"
   ]
  },
  {
   "cell_type": "code",
   "execution_count": 3,
   "id": "53a941a4",
   "metadata": {
    "ExecuteTime": {
     "end_time": "2024-05-17T20:39:57.176580Z",
     "start_time": "2024-05-17T20:39:57.151166Z"
    }
   },
   "outputs": [],
   "source": [
    "print(\"Final test double-nested-dir\")"
   ]
  }
 ],
 "metadata": {
  "kernelspec": {
   "display_name": "Python 3",
   "language": "python",
   "name": "python3"
  },
  "language_info": {
   "codemirror_mode": {
    "name": "ipython",
    "version": 3
   },
   "file_extension": ".py",
   "mimetype": "text/x-python",
   "name": "python",
   "nbconvert_exporter": "python",
   "pygments_lexer": "ipython3",
   "version": "3.9.2"
  }
 },
 "nbformat": 4,
 "nbformat_minor": 5
}
