{
 "cells": [
  {
   "cell_type": "markdown",
   "id": "5cb3e0b7",
   "metadata": {},
   "source": "This is a test notebook to check the NotebookRunner business. It should run even though it's in a directory, unless this directory is excluded..."
  },
  {
   "cell_type": "code",
   "id": "f84f0959",
   "metadata": {
    "ExecuteTime": {
     "end_time": "2024-05-17T20:37:58.826140Z",
     "start_time": "2024-05-17T20:37:58.823537Z"
    }
   },
   "source": "print(\"Test some-dir\")",
   "outputs": [
    {
     "name": "stdout",
     "output_type": "stream",
     "text": [
      "Test some-dir\n"
     ]
    }
   ],
   "execution_count": 1
  },
  {
   "cell_type": "code",
   "id": "44ada997",
   "metadata": {
    "ExecuteTime": {
     "end_time": "2024-05-17T20:38:00.590204Z",
     "start_time": "2024-05-17T20:38:00.587773Z"
    }
   },
   "source": [
    "import os\n",
    "print(\"Another test some-dir\")"
   ],
   "outputs": [
    {
     "name": "stdout",
     "output_type": "stream",
     "text": [
      "Another test some-dir\n"
     ]
    }
   ],
   "execution_count": 2
  },
  {
   "cell_type": "markdown",
   "id": "d5cea3a7",
   "metadata": {},
   "source": [
    "Another Markdown cell"
   ]
  },
  {
   "cell_type": "markdown",
   "id": "541caea0",
   "metadata": {},
   "source": [
    "Yet another Markdown cell. This one has a list.\n",
    "- one\n",
    "- two\n",
    "- three"
   ]
  },
  {
   "cell_type": "code",
   "id": "53a941a4",
   "metadata": {
    "ExecuteTime": {
     "end_time": "2024-05-17T20:38:02.105516Z",
     "start_time": "2024-05-17T20:38:02.103211Z"
    }
   },
   "source": "print(\"Final test some-dir\")",
   "outputs": [
    {
     "name": "stdout",
     "output_type": "stream",
     "text": [
      "Final test some-dir\n"
     ]
    }
   ],
   "execution_count": 3
  }
 ],
 "metadata": {
  "kernelspec": {
   "display_name": "Python 3",
   "language": "python",
   "name": "python3"
  },
  "language_info": {
   "codemirror_mode": {
    "name": "ipython",
    "version": 3
   },
   "file_extension": ".py",
   "mimetype": "text/x-python",
   "name": "python",
   "nbconvert_exporter": "python",
   "pygments_lexer": "ipython3",
   "version": "3.9.2"
  }
 },
 "nbformat": 4,
 "nbformat_minor": 5
}
